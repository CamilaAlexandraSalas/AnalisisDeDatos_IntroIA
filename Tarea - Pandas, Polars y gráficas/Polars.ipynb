{
  "nbformat": 4,
  "nbformat_minor": 0,
  "metadata": {
    "colab": {
      "provenance": []
    },
    "kernelspec": {
      "name": "python3",
      "display_name": "Python 3"
    },
    "language_info": {
      "name": "python"
    }
  },
  "cells": [
    {
      "cell_type": "code",
      "source": [
        "import polars as pl\n",
        "\n",
        "yellow = pl.read_parquet(\"yellow_tripdata_2025-01.parquet\")\n",
        "green = pl.read_parquet(\"green_tripdata_2025-01.parquet\")"
      ],
      "metadata": {
        "id": "oFXTW9EMYNWK"
      },
      "execution_count": 12,
      "outputs": []
    },
    {
      "cell_type": "markdown",
      "source": [
        "### **Promedio de ingresos brutos de cada tipo de taxi y de todos los taxis**"
      ],
      "metadata": {
        "id": "-sCAAfdMaDCU"
      }
    },
    {
      "cell_type": "code",
      "source": [
        "TotalYellow = yellow.select(pl.col(\"total_amount\").mean())\n",
        "TotalGreen = green.select(pl.col(\"total_amount\").mean())\n",
        "\n",
        "print(\"Promedio Yellow:\", TotalYellow)\n",
        "print(\"Promedio Green:\", TotalGreen)\n",
        "\n",
        "print(\"Promedio Total:\", (TotalYellow + TotalGreen)/2)"
      ],
      "metadata": {
        "colab": {
          "base_uri": "https://localhost:8080/"
        },
        "id": "CuGIuki6YWAK",
        "outputId": "437be117-9d20-4284-c915-c6c95829a295"
      },
      "execution_count": 22,
      "outputs": [
        {
          "output_type": "stream",
          "name": "stdout",
          "text": [
            "Promedio Yellow: shape: (1, 1)\n",
            "┌──────────────┐\n",
            "│ total_amount │\n",
            "│ ---          │\n",
            "│ f64          │\n",
            "╞══════════════╡\n",
            "│ 25.611292    │\n",
            "└──────────────┘\n",
            "Promedio Green: shape: (1, 1)\n",
            "┌──────────────┐\n",
            "│ total_amount │\n",
            "│ ---          │\n",
            "│ f64          │\n",
            "╞══════════════╡\n",
            "│ 22.634242    │\n",
            "└──────────────┘\n",
            "Promedio Total: shape: (1, 1)\n",
            "┌──────────────┐\n",
            "│ total_amount │\n",
            "│ ---          │\n",
            "│ f64          │\n",
            "╞══════════════╡\n",
            "│ 24.122767    │\n",
            "└──────────────┘\n"
          ]
        }
      ]
    },
    {
      "cell_type": "markdown",
      "source": [
        "### **Qué tipo de taxis recorrieron la mayor cantidad de distancia en Enero**"
      ],
      "metadata": {
        "id": "jvHRgx92cPSD"
      }
    },
    {
      "cell_type": "code",
      "source": [
        "DistanciaYellow = yellow.select(pl.col(\"trip_distance\").sum())\n",
        "DistanciaGreen = green.select(pl.col(\"trip_distance\").sum())\n",
        "\n",
        "print(\"Yellow recorrió:\", DistanciaYellow)\n",
        "print(\"Green recorrió:\", DistanciaGreen)\n",
        "\n",
        "if DistanciaYellow[0,0] > DistanciaGreen[0,0]:\n",
        "    print(\"Yellow recorrió más distancia\")\n",
        "else:\n",
        "    print(\"Green recorrió más distancia\")\n"
      ],
      "metadata": {
        "colab": {
          "base_uri": "https://localhost:8080/"
        },
        "id": "goVq3xElcSIx",
        "outputId": "6fea0776-287c-48f7-ed0e-fbcda16cc648"
      },
      "execution_count": 31,
      "outputs": [
        {
          "output_type": "stream",
          "name": "stdout",
          "text": [
            "Yellow recorrió: shape: (1, 1)\n",
            "┌───────────────┐\n",
            "│ trip_distance │\n",
            "│ ---           │\n",
            "│ f64           │\n",
            "╞═══════════════╡\n",
            "│ 2.0348e7      │\n",
            "└───────────────┘\n",
            "Green recorrió: shape: (1, 1)\n",
            "┌───────────────┐\n",
            "│ trip_distance │\n",
            "│ ---           │\n",
            "│ f64           │\n",
            "╞═══════════════╡\n",
            "│ 1.0406e6      │\n",
            "└───────────────┘\n",
            "Yellow recorrió más distancia\n"
          ]
        }
      ]
    },
    {
      "cell_type": "markdown",
      "source": [
        "### **Qué tipo de taxi recibe más propinas en promedio**"
      ],
      "metadata": {
        "id": "j1P89CHAe2ww"
      }
    },
    {
      "cell_type": "code",
      "source": [
        "PropinaYellow = yellow.select(pl.col(\"tip_amount\").mean())\n",
        "PropinaGreen = green.select(pl.col(\"tip_amount\").mean())\n",
        "\n",
        "print(\"Promedio propinas Yellow:\", PropinaYellow)\n",
        "print(\"Promedio propinas Green:\", PropinaGreen)\n",
        "\n",
        "if PropinaYellow[0, 0] > PropinaGreen[0, 0]:\n",
        "    print(\"Yellow recibe más propinas\")\n",
        "else:\n",
        "    print(\"Green recibe más propinas\")"
      ],
      "metadata": {
        "colab": {
          "base_uri": "https://localhost:8080/"
        },
        "id": "DOYisYQce8g_",
        "outputId": "c5bfeeaf-bbbb-4538-98ef-94d7959d2d93"
      },
      "execution_count": 32,
      "outputs": [
        {
          "output_type": "stream",
          "name": "stdout",
          "text": [
            "Promedio Yellow: shape: (1, 1)\n",
            "┌────────────┐\n",
            "│ tip_amount │\n",
            "│ ---        │\n",
            "│ f64        │\n",
            "╞════════════╡\n",
            "│ 2.959813   │\n",
            "└────────────┘\n",
            "Promedio Green: shape: (1, 1)\n",
            "┌────────────┐\n",
            "│ tip_amount │\n",
            "│ ---        │\n",
            "│ f64        │\n",
            "╞════════════╡\n",
            "│ 2.481859   │\n",
            "└────────────┘\n",
            "Yellow recibe más propinas\n"
          ]
        }
      ]
    },
    {
      "cell_type": "markdown",
      "source": [
        "### **Gráfico de barras reportando el importe del peaje total de cada tipo de Taxi**"
      ],
      "metadata": {
        "id": "VpJymBwVfd3k"
      }
    },
    {
      "cell_type": "code",
      "source": [
        "import matplotlib.pyplot as plt"
      ],
      "metadata": {
        "id": "7kvpeH2_flIR"
      },
      "execution_count": 30,
      "outputs": []
    },
    {
      "cell_type": "code",
      "source": [
        "PeajeYellow = yellow.select(pl.col(\"total_amount\").sum())[0, 0]\n",
        "PeajeGreen = green.select(pl.col(\"total_amount\").sum())[0, 0]\n",
        "\n",
        "print(\"Peaje Yellow:\", PeajeYellow)\n",
        "print(\"Peaje Green:\", PeajeGreen)\n",
        "\n",
        "tipos_taxi = ['Yellow Taxi', 'Green Taxi']\n",
        "total_peaje = [PeajeYellow, PeajeGreen]\n",
        "\n",
        "plt.bar(tipos_taxi, total_peaje, color=['yellow', 'green'])\n",
        "plt.ylabel('Peaje')\n",
        "plt.title('Importe de peaje por tipo de taxi')\n",
        "plt.grid(axis='y', linestyle='--', alpha=0.7)\n",
        "plt.show()"
      ],
      "metadata": {
        "colab": {
          "base_uri": "https://localhost:8080/",
          "height": 487
        },
        "id": "Gzc5e0Dafl1w",
        "outputId": "29f54817-7a8f-4bd0-e548-d3a945b23377"
      },
      "execution_count": 34,
      "outputs": [
        {
          "output_type": "stream",
          "name": "stdout",
          "text": [
            "Peaje Yellow: 89005026.79999998\n",
            "Peaje Green: 1093822.3599999999\n"
          ]
        },
        {
          "output_type": "display_data",
          "data": {
            "text/plain": [
              "<Figure size 640x480 with 1 Axes>"
            ],
            "image/png": "[encoded data removed]"
          },
          "metadata": {}
        }
      ]
    }
  ]
}